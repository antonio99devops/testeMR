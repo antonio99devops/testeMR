{
  "nbformat": 4,
  "nbformat_minor": 0,
  "metadata": {
    "colab": {
      "name": "Untitled2.ipynb",
      "provenance": [],
      "authorship_tag": "ABX9TyMzeLr4kqaZMm/XF20Q6kVl",
      "include_colab_link": true
    },
    "kernelspec": {
      "name": "python3",
      "display_name": "Python 3"
    }
  },
  "cells": [
    {
      "cell_type": "markdown",
      "metadata": {
        "id": "view-in-github",
        "colab_type": "text"
      },
      "source": [
        "<a href=\"https://colab.research.google.com/github/antonio99devops/testeMR/blob/master/primos.ipynb\" target=\"_parent\"><img src=\"https://colab.research.google.com/assets/colab-badge.svg\" alt=\"Open In Colab\"/></a>"
      ]
    },
    {
      "cell_type": "code",
      "metadata": {
        "id": "KRFRCwrKA2gr",
        "colab_type": "code",
        "colab": {
          "base_uri": "https://localhost:8080/",
          "height": 204
        },
        "outputId": "492b531f-2f6e-488b-cab7-ad963d660bea"
      },
      "source": [
        "  limite = 100\n",
        "  qtdPrimos = 2\n",
        "  numero = 3\n",
        "\n",
        "  primos = \"1,2,\"\n",
        "\n",
        "  while qtdPrimos < limite:\n",
        "        ehprimo = 1\n",
        "        for i in range(2, numero):\n",
        "            if numero % i == 0:\n",
        "                ehprimo = 0\n",
        "                break\n",
        "        if (ehprimo):\n",
        "            primos = primos + str(numero) + \",\"\n",
        "            qtdPrimos += 1\n",
        "            if(qtdPrimos % 10 ==0):\n",
        "              primos = primos + \"\\n\"\n",
        "        numero+=1\n",
        "  print (primos)"
      ],
      "execution_count": 9,
      "outputs": [
        {
          "output_type": "stream",
          "text": [
            "1,2,3,5,7,11,13,17,19,23,\n",
            "29,31,37,41,43,47,53,59,61,67,\n",
            "71,73,79,83,89,97,101,103,107,109,\n",
            "113,127,131,137,139,149,151,157,163,167,\n",
            "173,179,181,191,193,197,199,211,223,227,\n",
            "229,233,239,241,251,257,263,269,271,277,\n",
            "281,283,293,307,311,313,317,331,337,347,\n",
            "349,353,359,367,373,379,383,389,397,401,\n",
            "409,419,421,431,433,439,443,449,457,461,\n",
            "463,467,479,487,491,499,503,509,521,523,\n",
            "\n"
          ],
          "name": "stdout"
        }
      ]
    },
    {
      "cell_type": "code",
      "metadata": {
        "id": "_SBzeG-nF9HR",
        "colab_type": "code",
        "colab": {}
      },
      "source": [
        "import os\n",
        "from flask import Flask, jsonify, request\n",
        "from math import sqrt\n",
        "\n",
        "app = Flask(__name__)\n",
        "\n",
        "@app.route('/')\n",
        "def nao_entre_em_panico():\n",
        "\n",
        "    limite = 99\n",
        "\n",
        "    c = 1\n",
        "    p = 1\n",
        "    numero = 3\n",
        "\n",
        "    primos = \"2,\"\n",
        "\n",
        "    while p < limite:\n",
        "        ehprimo = 1\n",
        "        for i in range(2, numero):\n",
        "            if numero % i == 0:\n",
        "                ehprimo = 0\n",
        "                break\n",
        "        if (ehprimo):\n",
        "            primos = primos + str(numero) + \",\"\n",
        "            p += 1\n",
        "        numero+=1\n",
        "\n",
        "    return primos\n",
        "\n",
        "if __name__ == \"__main__\":\n",
        "    port = int(os.environ.get(\"PORT\", 5000))\n",
        "    app.run(host='0.0.0.0', port=port)\n",
        "\n"
      ],
      "execution_count": 0,
      "outputs": []
    }
  ]
}